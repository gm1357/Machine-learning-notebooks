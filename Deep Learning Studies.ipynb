{
 "cells": [
  {
   "cell_type": "markdown",
   "metadata": {},
   "source": [
    "# Neural Networks\n",
    "\n",
    "## Error Functions\n",
    "\n",
    "### Discrete vs Continuos\n",
    "\n",
    "In order to use gradient descent, it needs to have a continuos error function. To do this, we need to move from discrete predictions to continuos.\n",
    "\n",
    "In order to channge from discrete to continuos predictions we need to change the activation function. From the discrete step function:\n",
    "\n",
    "$$\n",
    "y =\n",
    "\\begin{cases}\n",
    "    1 & \\text{if } x \\geq 0\\\\\n",
    "    0 & \\text{if } x < 0\n",
    "\\end{cases}\n",
    "$$\n",
    "\n",
    "To the Sigmoid Function:\n",
    "\n",
    "$$\n",
    "\\sigma(x) = \\dfrac{1}{1 + \\mathrm{e}^{-x}}\n",
    "$$"
   ]
  }
 ],
 "metadata": {
  "kernelspec": {
   "display_name": "Python [conda env:root] *",
   "language": "python",
   "name": "conda-root-py"
  },
  "language_info": {
   "codemirror_mode": {
    "name": "ipython",
    "version": 3
   },
   "file_extension": ".py",
   "mimetype": "text/x-python",
   "name": "python",
   "nbconvert_exporter": "python",
   "pygments_lexer": "ipython3",
   "version": "3.7.7"
  }
 },
 "nbformat": 4,
 "nbformat_minor": 4
}
